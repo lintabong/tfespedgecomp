{
 "cells": [
  {
   "cell_type": "code",
   "execution_count": 8,
   "metadata": {},
   "outputs": [],
   "source": [
    "import os\n",
    "import csv\n",
    "import numpy\n",
    "import pandas\n",
    "import tensorflow\n",
    "import seaborn as sns\n",
    "from tensorflow.keras.models import Sequential\n",
    "from tensorflow.keras.optimizers import Adam\n",
    "from tensorflow.keras.layers import Dense, BatchNormalization, Dropout\n",
    "from tensorflow.keras.utils import to_categorical\n",
    "from sklearn.preprocessing import LabelEncoder\n",
    "from sklearn.model_selection import KFold\n",
    "from sklearn.ensemble import RandomForestClassifier  # Contoh model, bisa diganti sesuai kebutuhan\n",
    "from sklearn.metrics import accuracy_score\n",
    "import matplotlib.pyplot as plt"
   ]
  },
  {
   "cell_type": "code",
   "execution_count": 2,
   "metadata": {},
   "outputs": [
    {
     "data": {
      "text/html": [
       "<div>\n",
       "<style scoped>\n",
       "    .dataframe tbody tr th:only-of-type {\n",
       "        vertical-align: middle;\n",
       "    }\n",
       "\n",
       "    .dataframe tbody tr th {\n",
       "        vertical-align: top;\n",
       "    }\n",
       "\n",
       "    .dataframe thead th {\n",
       "        text-align: right;\n",
       "    }\n",
       "</style>\n",
       "<table border=\"1\" class=\"dataframe\">\n",
       "  <thead>\n",
       "    <tr style=\"text-align: right;\">\n",
       "      <th></th>\n",
       "      <th>dust</th>\n",
       "      <th>mq135</th>\n",
       "      <th>mq7</th>\n",
       "      <th>temperature</th>\n",
       "      <th>voc</th>\n",
       "      <th>label</th>\n",
       "    </tr>\n",
       "  </thead>\n",
       "  <tbody>\n",
       "    <tr>\n",
       "      <th>0</th>\n",
       "      <td>21</td>\n",
       "      <td>5006</td>\n",
       "      <td>3357</td>\n",
       "      <td>28.55</td>\n",
       "      <td>139</td>\n",
       "      <td>normal</td>\n",
       "    </tr>\n",
       "    <tr>\n",
       "      <th>1</th>\n",
       "      <td>25</td>\n",
       "      <td>5012</td>\n",
       "      <td>3356</td>\n",
       "      <td>28.55</td>\n",
       "      <td>138</td>\n",
       "      <td>normal</td>\n",
       "    </tr>\n",
       "    <tr>\n",
       "      <th>2</th>\n",
       "      <td>18</td>\n",
       "      <td>5009</td>\n",
       "      <td>3357</td>\n",
       "      <td>28.55</td>\n",
       "      <td>139</td>\n",
       "      <td>normal</td>\n",
       "    </tr>\n",
       "    <tr>\n",
       "      <th>3</th>\n",
       "      <td>26</td>\n",
       "      <td>5002</td>\n",
       "      <td>3352</td>\n",
       "      <td>28.56</td>\n",
       "      <td>139</td>\n",
       "      <td>normal</td>\n",
       "    </tr>\n",
       "    <tr>\n",
       "      <th>4</th>\n",
       "      <td>23</td>\n",
       "      <td>4997</td>\n",
       "      <td>3347</td>\n",
       "      <td>28.54</td>\n",
       "      <td>127</td>\n",
       "      <td>normal</td>\n",
       "    </tr>\n",
       "  </tbody>\n",
       "</table>\n",
       "</div>"
      ],
      "text/plain": [
       "   dust  mq135   mq7  temperature  voc   label\n",
       "0    21   5006  3357        28.55  139  normal\n",
       "1    25   5012  3356        28.55  138  normal\n",
       "2    18   5009  3357        28.55  139  normal\n",
       "3    26   5002  3352        28.56  139  normal\n",
       "4    23   4997  3347        28.54  127  normal"
      ]
     },
     "execution_count": 2,
     "metadata": {},
     "output_type": "execute_result"
    }
   ],
   "source": [
    "csv_file = 'sensor_data_labeled.csv'\n",
    "df = pandas.read_csv(csv_file)\n",
    "\n",
    "df = df.drop(columns=['datetime', 'epoch', 'humidity', 'pressure'])\n",
    "df['voc'] = pandas.to_numeric(df['voc'], errors='coerce')\n",
    "df = df.dropna(subset=['voc'])\n",
    "df['voc'] = df['voc'].astype(int)\n",
    "df.head()\n"
   ]
  },
  {
   "cell_type": "code",
   "execution_count": 3,
   "metadata": {},
   "outputs": [
    {
     "name": "stdout",
     "output_type": "stream",
     "text": [
      "Distribusi Label:\n",
      "label\n",
      "aktivitas     1500\n",
      "makanminum    1500\n",
      "kimia         1500\n",
      "normal        1499\n",
      "Name: count, dtype: int64\n",
      "\n",
      "\n"
     ]
    }
   ],
   "source": [
    "print(\"Distribusi Label:\")\n",
    "print(df['label'].value_counts())\n",
    "print(\"\\n\")"
   ]
  },
  {
   "cell_type": "code",
   "execution_count": 6,
   "metadata": {},
   "outputs": [
    {
     "data": {
      "image/png": "[encoded data removed]",
      "text/plain": [
       "<Figure size 640x480 with 1 Axes>"
      ]
     },
     "metadata": {},
     "output_type": "display_data"
    }
   ],
   "source": [
    "\n",
    "sns.countplot(x='label', data=df)\n",
    "plt.title('Distribusi Label')\n",
    "plt.xlabel('Label')\n",
    "plt.ylabel('Jumlah')\n",
    "plt.show()"
   ]
  },
  {
   "cell_type": "code",
   "execution_count": 10,
   "metadata": {},
   "outputs": [
    {
     "name": "stdout",
     "output_type": "stream",
     "text": [
      "Fold 1: Accuracy = 1.00\n",
      "Fold 2: Accuracy = 1.00\n",
      "Fold 3: Accuracy = 1.00\n",
      "Fold 4: Accuracy = 1.00\n",
      "Fold 5: Accuracy = 1.00\n",
      "\n",
      "Mean Accuracy Across Folds: 1.00\n"
     ]
    }
   ],
   "source": [
    "X = df.drop(columns=[\"label\"])  # Fitur\n",
    "y = df[\"label\"]  # Label\n",
    "\n",
    "# Inisialisasi KFold\n",
    "kf = KFold(n_splits=5, shuffle=True, random_state=42)  # Gunakan shuffle untuk data acak\n",
    "\n",
    "# Model yang akan digunakan (contoh RandomForest)\n",
    "model = RandomForestClassifier(random_state=42)\n",
    "\n",
    "# List untuk menyimpan hasil validasi\n",
    "fold_accuracies = []\n",
    "\n",
    "# Iterasi pada setiap fold\n",
    "for fold, (train_index, test_index) in enumerate(kf.split(X), 1):\n",
    "    # Bagi data ke dalam training dan testing\n",
    "    X_train, X_test = X.iloc[train_index], X.iloc[test_index]\n",
    "    y_train, y_test = y.iloc[train_index], y.iloc[test_index]\n",
    "    \n",
    "    # Train model\n",
    "    model.fit(X_train, y_train)\n",
    "    \n",
    "    # Prediksi\n",
    "    y_pred = model.predict(X_test)\n",
    "    \n",
    "    # Hitung akurasi\n",
    "    accuracy = accuracy_score(y_test, y_pred)\n",
    "    fold_accuracies.append(accuracy)\n",
    "    \n",
    "    print(f\"Fold {fold}: Accuracy = {accuracy:.2f}\")\n",
    "\n",
    "# Rata-rata akurasi\n",
    "mean_accuracy = numpy.mean(fold_accuracies)\n",
    "print(f\"\\nMean Accuracy Across Folds: {mean_accuracy:.2f}\")"
   ]
  },
  {
   "cell_type": "code",
   "execution_count": 6,
   "metadata": {},
   "outputs": [],
   "source": [
    "X = df[['dust', 'mq135', 'mq7', 'temperature', 'voc']].values\n",
    "\n",
    "y_labels = df['label'].values\n",
    "\n",
    "encoder = LabelEncoder()\n",
    "y_encoded = encoder.fit_transform(y_labels)\n",
    "y_categorical = to_categorical(y_encoded)\n",
    "\n"
   ]
  },
  {
   "cell_type": "code",
   "execution_count": 9,
   "metadata": {},
   "outputs": [
    {
     "name": "stdout",
     "output_type": "stream",
     "text": [
      "5999\n",
      "[1. 0. 0. 0.]\n"
     ]
    }
   ],
   "source": [
    "print(len(y_categorical))\n",
    "print(y_categorical[1600])"
   ]
  },
  {
   "cell_type": "code",
   "execution_count": 7,
   "metadata": {},
   "outputs": [],
   "source": [
    "categories = ['aktivitas','kimia','makanminum', 'normal']"
   ]
  },
  {
   "cell_type": "code",
   "execution_count": 11,
   "metadata": {},
   "outputs": [
    {
     "name": "stdout",
     "output_type": "stream",
     "text": [
      "Epoch 1/100\n",
      "\u001b[1m900/900\u001b[0m \u001b[32m━━━━━━━━━━━━━━━━━━━━\u001b[0m\u001b[37m\u001b[0m \u001b[1m6s\u001b[0m 3ms/step - accuracy: 0.7494 - loss: 0.6992 - val_accuracy: 0.3750 - val_loss: 49.8861\n",
      "Epoch 2/100\n",
      "\u001b[1m900/900\u001b[0m \u001b[32m━━━━━━━━━━━━━━━━━━━━\u001b[0m\u001b[37m\u001b[0m \u001b[1m3s\u001b[0m 3ms/step - accuracy: 0.8923 - loss: 0.3222 - val_accuracy: 0.3750 - val_loss: 49.1356\n",
      "Epoch 3/100\n",
      "\u001b[1m900/900\u001b[0m \u001b[32m━━━━━━━━━━━━━━━━━━━━\u001b[0m\u001b[37m\u001b[0m \u001b[1m3s\u001b[0m 3ms/step - accuracy: 0.8999 - loss: 0.2909 - val_accuracy: 0.3750 - val_loss: 40.9288\n",
      "Epoch 4/100\n",
      "\u001b[1m900/900\u001b[0m \u001b[32m━━━━━━━━━━━━━━━━━━━━\u001b[0m\u001b[37m\u001b[0m \u001b[1m3s\u001b[0m 3ms/step - accuracy: 0.8988 - loss: 0.2796 - val_accuracy: 0.3750 - val_loss: 36.4165\n",
      "Epoch 5/100\n",
      "\u001b[1m900/900\u001b[0m \u001b[32m━━━━━━━━━━━━━━━━━━━━\u001b[0m\u001b[37m\u001b[0m \u001b[1m3s\u001b[0m 3ms/step - accuracy: 0.9023 - loss: 0.2805 - val_accuracy: 0.3750 - val_loss: 37.8394\n",
      "Epoch 6/100\n",
      "\u001b[1m900/900\u001b[0m \u001b[32m━━━━━━━━━━━━━━━━━━━━\u001b[0m\u001b[37m\u001b[0m \u001b[1m3s\u001b[0m 3ms/step - accuracy: 0.8915 - loss: 0.3025 - val_accuracy: 0.3750 - val_loss: 43.6925\n",
      "Epoch 7/100\n",
      "\u001b[1m900/900\u001b[0m \u001b[32m━━━━━━━━━━━━━━━━━━━━\u001b[0m\u001b[37m\u001b[0m \u001b[1m3s\u001b[0m 3ms/step - accuracy: 0.9108 - loss: 0.2473 - val_accuracy: 0.3750 - val_loss: 54.6323\n",
      "Epoch 8/100\n",
      "\u001b[1m900/900\u001b[0m \u001b[32m━━━━━━━━━━━━━━━━━━━━\u001b[0m\u001b[37m\u001b[0m \u001b[1m3s\u001b[0m 3ms/step - accuracy: 0.9131 - loss: 0.2532 - val_accuracy: 0.3750 - val_loss: 84.8483\n",
      "Epoch 9/100\n",
      "\u001b[1m900/900\u001b[0m \u001b[32m━━━━━━━━━━━━━━━━━━━━\u001b[0m\u001b[37m\u001b[0m \u001b[1m2s\u001b[0m 2ms/step - accuracy: 0.9087 - loss: 0.2599 - val_accuracy: 0.3750 - val_loss: 73.5806\n",
      "Epoch 10/100\n",
      "\u001b[1m900/900\u001b[0m \u001b[32m━━━━━━━━━━━━━━━━━━━━\u001b[0m\u001b[37m\u001b[0m \u001b[1m2s\u001b[0m 2ms/step - accuracy: 0.8992 - loss: 0.2656 - val_accuracy: 0.3750 - val_loss: 86.0436\n",
      "Epoch 11/100\n",
      "\u001b[1m900/900\u001b[0m \u001b[32m━━━━━━━━━━━━━━━━━━━━\u001b[0m\u001b[37m\u001b[0m \u001b[1m3s\u001b[0m 3ms/step - accuracy: 0.9305 - loss: 0.2369 - val_accuracy: 0.3750 - val_loss: 88.7789\n",
      "Epoch 12/100\n",
      "\u001b[1m900/900\u001b[0m \u001b[32m━━━━━━━━━━━━━━━━━━━━\u001b[0m\u001b[37m\u001b[0m \u001b[1m3s\u001b[0m 3ms/step - accuracy: 0.9322 - loss: 0.2185 - val_accuracy: 0.3750 - val_loss: 71.6484\n",
      "Epoch 13/100\n",
      "\u001b[1m900/900\u001b[0m \u001b[32m━━━━━━━━━━━━━━━━━━━━\u001b[0m\u001b[37m\u001b[0m \u001b[1m3s\u001b[0m 3ms/step - accuracy: 0.9111 - loss: 0.2639 - val_accuracy: 0.3750 - val_loss: 56.5065\n",
      "Epoch 14/100\n",
      "\u001b[1m900/900\u001b[0m \u001b[32m━━━━━━━━━━━━━━━━━━━━\u001b[0m\u001b[37m\u001b[0m \u001b[1m3s\u001b[0m 3ms/step - accuracy: 0.9285 - loss: 0.2109 - val_accuracy: 0.3750 - val_loss: 59.7021\n",
      "Epoch 15/100\n",
      "\u001b[1m900/900\u001b[0m \u001b[32m━━━━━━━━━━━━━━━━━━━━\u001b[0m\u001b[37m\u001b[0m \u001b[1m2s\u001b[0m 3ms/step - accuracy: 0.9270 - loss: 0.2212 - val_accuracy: 0.4029 - val_loss: 49.9955\n",
      "Epoch 16/100\n",
      "\u001b[1m900/900\u001b[0m \u001b[32m━━━━━━━━━━━━━━━━━━━━\u001b[0m\u001b[37m\u001b[0m \u001b[1m3s\u001b[0m 3ms/step - accuracy: 0.9203 - loss: 0.2290 - val_accuracy: 0.4029 - val_loss: 51.0068\n",
      "Epoch 17/100\n",
      "\u001b[1m900/900\u001b[0m \u001b[32m━━━━━━━━━━━━━━━━━━━━\u001b[0m\u001b[37m\u001b[0m \u001b[1m3s\u001b[0m 3ms/step - accuracy: 0.9275 - loss: 0.2183 - val_accuracy: 0.3846 - val_loss: 62.8805\n",
      "Epoch 18/100\n",
      "\u001b[1m900/900\u001b[0m \u001b[32m━━━━━━━━━━━━━━━━━━━━\u001b[0m\u001b[37m\u001b[0m \u001b[1m3s\u001b[0m 3ms/step - accuracy: 0.9324 - loss: 0.2147 - val_accuracy: 0.3750 - val_loss: 77.2183\n",
      "Epoch 19/100\n",
      "\u001b[1m900/900\u001b[0m \u001b[32m━━━━━━━━━━━━━━━━━━━━\u001b[0m\u001b[37m\u001b[0m \u001b[1m3s\u001b[0m 4ms/step - accuracy: 0.9267 - loss: 0.2093 - val_accuracy: 0.3750 - val_loss: 69.0406\n",
      "Epoch 20/100\n",
      "\u001b[1m900/900\u001b[0m \u001b[32m━━━━━━━━━━━━━━━━━━━━\u001b[0m\u001b[37m\u001b[0m \u001b[1m3s\u001b[0m 3ms/step - accuracy: 0.9323 - loss: 0.2057 - val_accuracy: 0.3750 - val_loss: 75.3815\n",
      "Epoch 21/100\n",
      "\u001b[1m900/900\u001b[0m \u001b[32m━━━━━━━━━━━━━━━━━━━━\u001b[0m\u001b[37m\u001b[0m \u001b[1m3s\u001b[0m 3ms/step - accuracy: 0.9164 - loss: 0.2312 - val_accuracy: 0.3750 - val_loss: 70.9692\n",
      "Epoch 22/100\n",
      "\u001b[1m900/900\u001b[0m \u001b[32m━━━━━━━━━━━━━━━━━━━━\u001b[0m\u001b[37m\u001b[0m \u001b[1m3s\u001b[0m 3ms/step - accuracy: 0.9278 - loss: 0.2277 - val_accuracy: 0.3750 - val_loss: 68.2978\n",
      "Epoch 23/100\n",
      "\u001b[1m900/900\u001b[0m \u001b[32m━━━━━━━━━━━━━━━━━━━━\u001b[0m\u001b[37m\u001b[0m \u001b[1m3s\u001b[0m 3ms/step - accuracy: 0.9173 - loss: 0.2530 - val_accuracy: 0.3750 - val_loss: 80.8692\n",
      "Epoch 24/100\n",
      "\u001b[1m900/900\u001b[0m \u001b[32m━━━━━━━━━━━━━━━━━━━━\u001b[0m\u001b[37m\u001b[0m \u001b[1m3s\u001b[0m 3ms/step - accuracy: 0.9232 - loss: 0.2509 - val_accuracy: 0.3750 - val_loss: 63.3241\n",
      "Epoch 25/100\n",
      "\u001b[1m900/900\u001b[0m \u001b[32m━━━━━━━━━━━━━━━━━━━━\u001b[0m\u001b[37m\u001b[0m \u001b[1m3s\u001b[0m 3ms/step - accuracy: 0.9353 - loss: 0.1930 - val_accuracy: 0.3750 - val_loss: 102.3989\n",
      "Epoch 26/100\n",
      "\u001b[1m900/900\u001b[0m \u001b[32m━━━━━━━━━━━━━━━━━━━━\u001b[0m\u001b[37m\u001b[0m \u001b[1m3s\u001b[0m 4ms/step - accuracy: 0.9339 - loss: 0.2178 - val_accuracy: 0.3750 - val_loss: 115.1489\n",
      "Epoch 27/100\n",
      "\u001b[1m900/900\u001b[0m \u001b[32m━━━━━━━━━━━━━━━━━━━━\u001b[0m\u001b[37m\u001b[0m \u001b[1m3s\u001b[0m 3ms/step - accuracy: 0.9424 - loss: 0.1727 - val_accuracy: 0.3750 - val_loss: 97.3341\n",
      "Epoch 28/100\n",
      "\u001b[1m900/900\u001b[0m \u001b[32m━━━━━━━━━━━━━━━━━━━━\u001b[0m\u001b[37m\u001b[0m \u001b[1m5s\u001b[0m 3ms/step - accuracy: 0.9273 - loss: 0.2111 - val_accuracy: 0.3750 - val_loss: 135.0588\n",
      "Epoch 29/100\n",
      "\u001b[1m900/900\u001b[0m \u001b[32m━━━━━━━━━━━━━━━━━━━━\u001b[0m\u001b[37m\u001b[0m \u001b[1m3s\u001b[0m 3ms/step - accuracy: 0.9298 - loss: 0.2433 - val_accuracy: 0.3750 - val_loss: 121.3473\n",
      "Epoch 30/100\n",
      "\u001b[1m900/900\u001b[0m \u001b[32m━━━━━━━━━━━━━━━━━━━━\u001b[0m\u001b[37m\u001b[0m \u001b[1m3s\u001b[0m 3ms/step - accuracy: 0.9370 - loss: 0.2157 - val_accuracy: 0.3750 - val_loss: 116.3367\n",
      "Epoch 31/100\n",
      "\u001b[1m900/900\u001b[0m \u001b[32m━━━━━━━━━━━━━━━━━━━━\u001b[0m\u001b[37m\u001b[0m \u001b[1m3s\u001b[0m 3ms/step - accuracy: 0.9401 - loss: 0.1866 - val_accuracy: 0.3750 - val_loss: 140.7749\n",
      "Epoch 32/100\n",
      "\u001b[1m900/900\u001b[0m \u001b[32m━━━━━━━━━━━━━━━━━━━━\u001b[0m\u001b[37m\u001b[0m \u001b[1m3s\u001b[0m 3ms/step - accuracy: 0.9323 - loss: 0.2260 - val_accuracy: 0.3750 - val_loss: 273.3093\n",
      "Epoch 33/100\n",
      "\u001b[1m900/900\u001b[0m \u001b[32m━━━━━━━━━━━━━━━━━━━━\u001b[0m\u001b[37m\u001b[0m \u001b[1m3s\u001b[0m 3ms/step - accuracy: 0.9245 - loss: 0.2244 - val_accuracy: 0.3750 - val_loss: 287.5021\n",
      "Epoch 34/100\n",
      "\u001b[1m900/900\u001b[0m \u001b[32m━━━━━━━━━━━━━━━━━━━━\u001b[0m\u001b[37m\u001b[0m \u001b[1m3s\u001b[0m 3ms/step - accuracy: 0.9110 - loss: 0.2609 - val_accuracy: 0.4212 - val_loss: 110.6469\n",
      "Epoch 35/100\n",
      "\u001b[1m900/900\u001b[0m \u001b[32m━━━━━━━━━━━━━━━━━━━━\u001b[0m\u001b[37m\u001b[0m \u001b[1m3s\u001b[0m 3ms/step - accuracy: 0.9279 - loss: 0.2478 - val_accuracy: 0.4233 - val_loss: 79.2518\n",
      "Epoch 36/100\n",
      "\u001b[1m900/900\u001b[0m \u001b[32m━━━━━━━━━━━━━━━━━━━━\u001b[0m\u001b[37m\u001b[0m \u001b[1m2s\u001b[0m 3ms/step - accuracy: 0.9211 - loss: 0.2383 - val_accuracy: 0.4100 - val_loss: 126.2113\n",
      "Epoch 37/100\n",
      "\u001b[1m900/900\u001b[0m \u001b[32m━━━━━━━━━━━━━━━━━━━━\u001b[0m\u001b[37m\u001b[0m \u001b[1m2s\u001b[0m 2ms/step - accuracy: 0.9293 - loss: 0.2135 - val_accuracy: 0.4179 - val_loss: 100.6333\n",
      "Epoch 38/100\n",
      "\u001b[1m900/900\u001b[0m \u001b[32m━━━━━━━━━━━━━━━━━━━━\u001b[0m\u001b[37m\u001b[0m \u001b[1m3s\u001b[0m 3ms/step - accuracy: 0.9257 - loss: 0.2179 - val_accuracy: 0.4179 - val_loss: 139.4448\n",
      "Epoch 39/100\n",
      "\u001b[1m900/900\u001b[0m \u001b[32m━━━━━━━━━━━━━━━━━━━━\u001b[0m\u001b[37m\u001b[0m \u001b[1m3s\u001b[0m 3ms/step - accuracy: 0.9249 - loss: 0.2442 - val_accuracy: 0.4192 - val_loss: 264.6148\n",
      "Epoch 40/100\n",
      "\u001b[1m900/900\u001b[0m \u001b[32m━━━━━━━━━━━━━━━━━━━━\u001b[0m\u001b[37m\u001b[0m \u001b[1m3s\u001b[0m 3ms/step - accuracy: 0.9288 - loss: 0.2060 - val_accuracy: 0.4204 - val_loss: 281.7171\n",
      "Epoch 41/100\n",
      "\u001b[1m900/900\u001b[0m \u001b[32m━━━━━━━━━━━━━━━━━━━━\u001b[0m\u001b[37m\u001b[0m \u001b[1m3s\u001b[0m 3ms/step - accuracy: 0.9412 - loss: 0.2145 - val_accuracy: 0.4125 - val_loss: 161.1230\n",
      "Epoch 42/100\n",
      "\u001b[1m900/900\u001b[0m \u001b[32m━━━━━━━━━━━━━━━━━━━━\u001b[0m\u001b[37m\u001b[0m \u001b[1m2s\u001b[0m 3ms/step - accuracy: 0.9395 - loss: 0.2038 - val_accuracy: 0.4104 - val_loss: 91.8479\n",
      "Epoch 43/100\n",
      "\u001b[1m900/900\u001b[0m \u001b[32m━━━━━━━━━━━━━━━━━━━━\u001b[0m\u001b[37m\u001b[0m \u001b[1m2s\u001b[0m 2ms/step - accuracy: 0.9343 - loss: 0.2343 - val_accuracy: 0.4112 - val_loss: 147.4385\n",
      "Epoch 44/100\n",
      "\u001b[1m900/900\u001b[0m \u001b[32m━━━━━━━━━━━━━━━━━━━━\u001b[0m\u001b[37m\u001b[0m \u001b[1m2s\u001b[0m 3ms/step - accuracy: 0.9447 - loss: 0.1821 - val_accuracy: 0.4308 - val_loss: 74.9950\n",
      "Epoch 45/100\n",
      "\u001b[1m900/900\u001b[0m \u001b[32m━━━━━━━━━━━━━━━━━━━━\u001b[0m\u001b[37m\u001b[0m \u001b[1m3s\u001b[0m 3ms/step - accuracy: 0.9438 - loss: 0.1971 - val_accuracy: 0.4313 - val_loss: 45.0937\n",
      "Epoch 46/100\n",
      "\u001b[1m900/900\u001b[0m \u001b[32m━━━━━━━━━━━━━━━━━━━━\u001b[0m\u001b[37m\u001b[0m \u001b[1m3s\u001b[0m 3ms/step - accuracy: 0.9409 - loss: 0.2091 - val_accuracy: 0.4913 - val_loss: 10.6809\n",
      "Epoch 47/100\n",
      "\u001b[1m900/900\u001b[0m \u001b[32m━━━━━━━━━━━━━━━━━━━━\u001b[0m\u001b[37m\u001b[0m \u001b[1m3s\u001b[0m 3ms/step - accuracy: 0.9323 - loss: 0.1979 - val_accuracy: 0.4896 - val_loss: 10.8160\n",
      "Epoch 48/100\n",
      "\u001b[1m900/900\u001b[0m \u001b[32m━━━━━━━━━━━━━━━━━━━━\u001b[0m\u001b[37m\u001b[0m \u001b[1m3s\u001b[0m 3ms/step - accuracy: 0.9293 - loss: 0.2107 - val_accuracy: 0.4579 - val_loss: 21.0656\n",
      "Epoch 49/100\n",
      "\u001b[1m900/900\u001b[0m \u001b[32m━━━━━━━━━━━━━━━━━━━━\u001b[0m\u001b[37m\u001b[0m \u001b[1m3s\u001b[0m 3ms/step - accuracy: 0.9520 - loss: 0.1689 - val_accuracy: 0.4296 - val_loss: 40.6953\n",
      "Epoch 50/100\n",
      "\u001b[1m900/900\u001b[0m \u001b[32m━━━━━━━━━━━━━━━━━━━━\u001b[0m\u001b[37m\u001b[0m \u001b[1m3s\u001b[0m 3ms/step - accuracy: 0.9374 - loss: 0.2106 - val_accuracy: 0.3750 - val_loss: 149.2570\n",
      "Epoch 51/100\n",
      "\u001b[1m900/900\u001b[0m \u001b[32m━━━━━━━━━━━━━━━━━━━━\u001b[0m\u001b[37m\u001b[0m \u001b[1m2s\u001b[0m 3ms/step - accuracy: 0.9344 - loss: 0.1932 - val_accuracy: 0.3750 - val_loss: 182.3990\n",
      "Epoch 52/100\n",
      "\u001b[1m900/900\u001b[0m \u001b[32m━━━━━━━━━━━━━━━━━━━━\u001b[0m\u001b[37m\u001b[0m \u001b[1m2s\u001b[0m 2ms/step - accuracy: 0.9175 - loss: 0.2317 - val_accuracy: 0.4442 - val_loss: 28.6955\n",
      "Epoch 53/100\n",
      "\u001b[1m900/900\u001b[0m \u001b[32m━━━━━━━━━━━━━━━━━━━━\u001b[0m\u001b[37m\u001b[0m \u001b[1m2s\u001b[0m 3ms/step - accuracy: 0.9242 - loss: 0.2523 - val_accuracy: 0.4125 - val_loss: 65.6640\n",
      "Epoch 54/100\n",
      "\u001b[1m900/900\u001b[0m \u001b[32m━━━━━━━━━━━━━━━━━━━━\u001b[0m\u001b[37m\u001b[0m \u001b[1m3s\u001b[0m 3ms/step - accuracy: 0.9294 - loss: 0.2246 - val_accuracy: 0.4496 - val_loss: 21.2154\n",
      "Epoch 55/100\n",
      "\u001b[1m900/900\u001b[0m \u001b[32m━━━━━━━━━━━━━━━━━━━━\u001b[0m\u001b[37m\u001b[0m \u001b[1m3s\u001b[0m 3ms/step - accuracy: 0.9292 - loss: 0.2398 - val_accuracy: 0.3975 - val_loss: 70.4766\n",
      "Epoch 56/100\n",
      "\u001b[1m900/900\u001b[0m \u001b[32m━━━━━━━━━━━━━━━━━━━━\u001b[0m\u001b[37m\u001b[0m \u001b[1m3s\u001b[0m 3ms/step - accuracy: 0.9293 - loss: 0.2277 - val_accuracy: 0.3750 - val_loss: 160.2292\n",
      "Epoch 57/100\n",
      "\u001b[1m900/900\u001b[0m \u001b[32m━━━━━━━━━━━━━━━━━━━━\u001b[0m\u001b[37m\u001b[0m \u001b[1m3s\u001b[0m 3ms/step - accuracy: 0.9212 - loss: 0.2755 - val_accuracy: 0.4179 - val_loss: 81.0871\n",
      "Epoch 58/100\n",
      "\u001b[1m900/900\u001b[0m \u001b[32m━━━━━━━━━━━━━━━━━━━━\u001b[0m\u001b[37m\u001b[0m \u001b[1m3s\u001b[0m 3ms/step - accuracy: 0.9368 - loss: 0.2014 - val_accuracy: 0.4321 - val_loss: 43.3940\n",
      "Epoch 59/100\n",
      "\u001b[1m900/900\u001b[0m \u001b[32m━━━━━━━━━━━━━━━━━━━━\u001b[0m\u001b[37m\u001b[0m \u001b[1m3s\u001b[0m 3ms/step - accuracy: 0.9321 - loss: 0.2147 - val_accuracy: 0.3762 - val_loss: 122.0722\n",
      "Epoch 60/100\n",
      "\u001b[1m900/900\u001b[0m \u001b[32m━━━━━━━━━━━━━━━━━━━━\u001b[0m\u001b[37m\u001b[0m \u001b[1m3s\u001b[0m 3ms/step - accuracy: 0.9320 - loss: 0.2109 - val_accuracy: 0.3750 - val_loss: 160.7908\n",
      "Epoch 61/100\n",
      "\u001b[1m900/900\u001b[0m \u001b[32m━━━━━━━━━━━━━━━━━━━━\u001b[0m\u001b[37m\u001b[0m \u001b[1m3s\u001b[0m 4ms/step - accuracy: 0.9273 - loss: 0.2226 - val_accuracy: 0.3750 - val_loss: 154.2751\n",
      "Epoch 62/100\n",
      "\u001b[1m900/900\u001b[0m \u001b[32m━━━━━━━━━━━━━━━━━━━━\u001b[0m\u001b[37m\u001b[0m \u001b[1m3s\u001b[0m 3ms/step - accuracy: 0.9369 - loss: 0.2104 - val_accuracy: 0.3750 - val_loss: 213.3945\n",
      "Epoch 63/100\n",
      "\u001b[1m900/900\u001b[0m \u001b[32m━━━━━━━━━━━━━━━━━━━━\u001b[0m\u001b[37m\u001b[0m \u001b[1m3s\u001b[0m 3ms/step - accuracy: 0.9364 - loss: 0.2056 - val_accuracy: 0.3750 - val_loss: 208.6645\n",
      "Epoch 64/100\n",
      "\u001b[1m900/900\u001b[0m \u001b[32m━━━━━━━━━━━━━━━━━━━━\u001b[0m\u001b[37m\u001b[0m \u001b[1m3s\u001b[0m 3ms/step - accuracy: 0.9381 - loss: 0.2060 - val_accuracy: 0.3750 - val_loss: 185.2564\n",
      "Epoch 65/100\n",
      "\u001b[1m900/900\u001b[0m \u001b[32m━━━━━━━━━━━━━━━━━━━━\u001b[0m\u001b[37m\u001b[0m \u001b[1m3s\u001b[0m 3ms/step - accuracy: 0.9390 - loss: 0.1912 - val_accuracy: 0.3750 - val_loss: 257.7569\n",
      "Epoch 66/100\n",
      "\u001b[1m900/900\u001b[0m \u001b[32m━━━━━━━━━━━━━━━━━━━━\u001b[0m\u001b[37m\u001b[0m \u001b[1m3s\u001b[0m 3ms/step - accuracy: 0.9216 - loss: 0.2350 - val_accuracy: 0.3750 - val_loss: 209.4615\n",
      "Epoch 67/100\n",
      "\u001b[1m900/900\u001b[0m \u001b[32m━━━━━━━━━━━━━━━━━━━━\u001b[0m\u001b[37m\u001b[0m \u001b[1m3s\u001b[0m 3ms/step - accuracy: 0.9425 - loss: 0.1958 - val_accuracy: 0.3750 - val_loss: 372.0880\n",
      "Epoch 68/100\n",
      "\u001b[1m900/900\u001b[0m \u001b[32m━━━━━━━━━━━━━━━━━━━━\u001b[0m\u001b[37m\u001b[0m \u001b[1m3s\u001b[0m 3ms/step - accuracy: 0.9120 - loss: 0.2427 - val_accuracy: 0.3750 - val_loss: 182.6023\n",
      "Epoch 69/100\n",
      "\u001b[1m900/900\u001b[0m \u001b[32m━━━━━━━━━━━━━━━━━━━━\u001b[0m\u001b[37m\u001b[0m \u001b[1m3s\u001b[0m 3ms/step - accuracy: 0.9307 - loss: 0.2202 - val_accuracy: 0.3750 - val_loss: 142.4399\n",
      "Epoch 70/100\n",
      "\u001b[1m900/900\u001b[0m \u001b[32m━━━━━━━━━━━━━━━━━━━━\u001b[0m\u001b[37m\u001b[0m \u001b[1m3s\u001b[0m 3ms/step - accuracy: 0.9349 - loss: 0.2158 - val_accuracy: 0.3750 - val_loss: 219.6187\n",
      "Epoch 71/100\n",
      "\u001b[1m900/900\u001b[0m \u001b[32m━━━━━━━━━━━━━━━━━━━━\u001b[0m\u001b[37m\u001b[0m \u001b[1m3s\u001b[0m 3ms/step - accuracy: 0.9417 - loss: 0.1987 - val_accuracy: 0.3750 - val_loss: 183.2623\n",
      "Epoch 72/100\n",
      "\u001b[1m900/900\u001b[0m \u001b[32m━━━━━━━━━━━━━━━━━━━━\u001b[0m\u001b[37m\u001b[0m \u001b[1m3s\u001b[0m 3ms/step - accuracy: 0.9273 - loss: 0.2230 - val_accuracy: 0.3750 - val_loss: 84.9838\n",
      "Epoch 73/100\n",
      "\u001b[1m900/900\u001b[0m \u001b[32m━━━━━━━━━━━━━━━━━━━━\u001b[0m\u001b[37m\u001b[0m \u001b[1m3s\u001b[0m 3ms/step - accuracy: 0.9317 - loss: 0.2241 - val_accuracy: 0.3750 - val_loss: 61.9023\n",
      "Epoch 74/100\n",
      "\u001b[1m900/900\u001b[0m \u001b[32m━━━━━━━━━━━━━━━━━━━━\u001b[0m\u001b[37m\u001b[0m \u001b[1m3s\u001b[0m 3ms/step - accuracy: 0.9236 - loss: 0.2336 - val_accuracy: 0.3750 - val_loss: 70.1001\n",
      "Epoch 75/100\n",
      "\u001b[1m900/900\u001b[0m \u001b[32m━━━━━━━━━━━━━━━━━━━━\u001b[0m\u001b[37m\u001b[0m \u001b[1m3s\u001b[0m 3ms/step - accuracy: 0.9198 - loss: 0.2557 - val_accuracy: 0.3750 - val_loss: 54.9182\n",
      "Epoch 76/100\n",
      "\u001b[1m900/900\u001b[0m \u001b[32m━━━━━━━━━━━━━━━━━━━━\u001b[0m\u001b[37m\u001b[0m \u001b[1m3s\u001b[0m 3ms/step - accuracy: 0.9293 - loss: 0.2512 - val_accuracy: 0.4913 - val_loss: 12.9001\n",
      "Epoch 77/100\n",
      "\u001b[1m900/900\u001b[0m \u001b[32m━━━━━━━━━━━━━━━━━━━━\u001b[0m\u001b[37m\u001b[0m \u001b[1m3s\u001b[0m 3ms/step - accuracy: 0.9341 - loss: 0.1896 - val_accuracy: 0.3750 - val_loss: 106.8696\n",
      "Epoch 78/100\n",
      "\u001b[1m900/900\u001b[0m \u001b[32m━━━━━━━━━━━━━━━━━━━━\u001b[0m\u001b[37m\u001b[0m \u001b[1m3s\u001b[0m 3ms/step - accuracy: 0.9380 - loss: 0.2011 - val_accuracy: 0.4242 - val_loss: 34.3344\n",
      "Epoch 79/100\n",
      "\u001b[1m900/900\u001b[0m \u001b[32m━━━━━━━━━━━━━━━━━━━━\u001b[0m\u001b[37m\u001b[0m \u001b[1m3s\u001b[0m 3ms/step - accuracy: 0.9335 - loss: 0.2037 - val_accuracy: 0.4787 - val_loss: 14.2604\n",
      "Epoch 80/100\n",
      "\u001b[1m900/900\u001b[0m \u001b[32m━━━━━━━━━━━━━━━━━━━━\u001b[0m\u001b[37m\u001b[0m \u001b[1m3s\u001b[0m 3ms/step - accuracy: 0.9411 - loss: 0.1878 - val_accuracy: 0.3750 - val_loss: 213.6982\n",
      "Epoch 81/100\n",
      "\u001b[1m900/900\u001b[0m \u001b[32m━━━━━━━━━━━━━━━━━━━━\u001b[0m\u001b[37m\u001b[0m \u001b[1m3s\u001b[0m 3ms/step - accuracy: 0.9338 - loss: 0.2007 - val_accuracy: 0.3750 - val_loss: 874.0281\n",
      "Epoch 82/100\n",
      "\u001b[1m900/900\u001b[0m \u001b[32m━━━━━━━━━━━━━━━━━━━━\u001b[0m\u001b[37m\u001b[0m \u001b[1m3s\u001b[0m 3ms/step - accuracy: 0.9480 - loss: 0.1786 - val_accuracy: 0.3750 - val_loss: 907.1011\n",
      "Epoch 83/100\n",
      "\u001b[1m900/900\u001b[0m \u001b[32m━━━━━━━━━━━━━━━━━━━━\u001b[0m\u001b[37m\u001b[0m \u001b[1m3s\u001b[0m 3ms/step - accuracy: 0.9400 - loss: 0.2143 - val_accuracy: 0.3750 - val_loss: 1602.4844\n",
      "Epoch 84/100\n",
      "\u001b[1m900/900\u001b[0m \u001b[32m━━━━━━━━━━━━━━━━━━━━\u001b[0m\u001b[37m\u001b[0m \u001b[1m3s\u001b[0m 3ms/step - accuracy: 0.9211 - loss: 0.2529 - val_accuracy: 0.0000e+00 - val_loss: 2263.3850\n",
      "Epoch 85/100\n",
      "\u001b[1m900/900\u001b[0m \u001b[32m━━━━━━━━━━━━━━━━━━━━\u001b[0m\u001b[37m\u001b[0m \u001b[1m3s\u001b[0m 3ms/step - accuracy: 0.9200 - loss: 0.2349 - val_accuracy: 0.3750 - val_loss: 1432.4058\n",
      "Epoch 86/100\n",
      "\u001b[1m900/900\u001b[0m \u001b[32m━━━━━━━━━━━━━━━━━━━━\u001b[0m\u001b[37m\u001b[0m \u001b[1m2s\u001b[0m 3ms/step - accuracy: 0.9512 - loss: 0.1627 - val_accuracy: 0.3750 - val_loss: 1003.8676\n",
      "Epoch 87/100\n",
      "\u001b[1m900/900\u001b[0m \u001b[32m━━━━━━━━━━━━━━━━━━━━\u001b[0m\u001b[37m\u001b[0m \u001b[1m2s\u001b[0m 2ms/step - accuracy: 0.9371 - loss: 0.2051 - val_accuracy: 0.3750 - val_loss: 265.0635\n",
      "Epoch 88/100\n",
      "\u001b[1m900/900\u001b[0m \u001b[32m━━━━━━━━━━━━━━━━━━━━\u001b[0m\u001b[37m\u001b[0m \u001b[1m3s\u001b[0m 3ms/step - accuracy: 0.9452 - loss: 0.1907 - val_accuracy: 0.3750 - val_loss: 2076.0178\n",
      "Epoch 89/100\n",
      "\u001b[1m900/900\u001b[0m \u001b[32m━━━━━━━━━━━━━━━━━━━━\u001b[0m\u001b[37m\u001b[0m \u001b[1m3s\u001b[0m 3ms/step - accuracy: 0.9530 - loss: 0.1695 - val_accuracy: 0.3750 - val_loss: 330.3539\n",
      "Epoch 90/100\n",
      "\u001b[1m900/900\u001b[0m \u001b[32m━━━━━━━━━━━━━━━━━━━━\u001b[0m\u001b[37m\u001b[0m \u001b[1m3s\u001b[0m 3ms/step - accuracy: 0.9537 - loss: 0.1877 - val_accuracy: 0.3750 - val_loss: 912.1231\n",
      "Epoch 91/100\n",
      "\u001b[1m900/900\u001b[0m \u001b[32m━━━━━━━━━━━━━━━━━━━━\u001b[0m\u001b[37m\u001b[0m \u001b[1m3s\u001b[0m 3ms/step - accuracy: 0.9408 - loss: 0.2045 - val_accuracy: 0.3750 - val_loss: 1961.3414\n",
      "Epoch 92/100\n",
      "\u001b[1m900/900\u001b[0m \u001b[32m━━━━━━━━━━━━━━━━━━━━\u001b[0m\u001b[37m\u001b[0m \u001b[1m3s\u001b[0m 4ms/step - accuracy: 0.9283 - loss: 0.2301 - val_accuracy: 0.3750 - val_loss: 1532.5935\n",
      "Epoch 93/100\n",
      "\u001b[1m900/900\u001b[0m \u001b[32m━━━━━━━━━━━━━━━━━━━━\u001b[0m\u001b[37m\u001b[0m \u001b[1m2s\u001b[0m 3ms/step - accuracy: 0.9344 - loss: 0.2097 - val_accuracy: 0.3750 - val_loss: 1924.6831\n",
      "Epoch 94/100\n",
      "\u001b[1m900/900\u001b[0m \u001b[32m━━━━━━━━━━━━━━━━━━━━\u001b[0m\u001b[37m\u001b[0m \u001b[1m2s\u001b[0m 2ms/step - accuracy: 0.9501 - loss: 0.1645 - val_accuracy: 0.3750 - val_loss: 894.5544\n",
      "Epoch 95/100\n",
      "\u001b[1m900/900\u001b[0m \u001b[32m━━━━━━━━━━━━━━━━━━━━\u001b[0m\u001b[37m\u001b[0m \u001b[1m3s\u001b[0m 3ms/step - accuracy: 0.9455 - loss: 0.1955 - val_accuracy: 0.3750 - val_loss: 267.4408\n",
      "Epoch 96/100\n",
      "\u001b[1m900/900\u001b[0m \u001b[32m━━━━━━━━━━━━━━━━━━━━\u001b[0m\u001b[37m\u001b[0m \u001b[1m3s\u001b[0m 3ms/step - accuracy: 0.9363 - loss: 0.2050 - val_accuracy: 0.3750 - val_loss: 1928.6503\n",
      "Epoch 97/100\n",
      "\u001b[1m900/900\u001b[0m \u001b[32m━━━━━━━━━━━━━━━━━━━━\u001b[0m\u001b[37m\u001b[0m \u001b[1m3s\u001b[0m 3ms/step - accuracy: 0.9288 - loss: 0.2186 - val_accuracy: 0.3750 - val_loss: 2239.8335\n",
      "Epoch 98/100\n",
      "\u001b[1m900/900\u001b[0m \u001b[32m━━━━━━━━━━━━━━━━━━━━\u001b[0m\u001b[37m\u001b[0m \u001b[1m3s\u001b[0m 3ms/step - accuracy: 0.9425 - loss: 0.1938 - val_accuracy: 0.3750 - val_loss: 1231.3993\n",
      "Epoch 99/100\n",
      "\u001b[1m900/900\u001b[0m \u001b[32m━━━━━━━━━━━━━━━━━━━━\u001b[0m\u001b[37m\u001b[0m \u001b[1m3s\u001b[0m 3ms/step - accuracy: 0.9258 - loss: 0.2324 - val_accuracy: 0.3750 - val_loss: 1608.8646\n",
      "Epoch 100/100\n",
      "\u001b[1m900/900\u001b[0m \u001b[32m━━━━━━━━━━━━━━━━━━━━\u001b[0m\u001b[37m\u001b[0m \u001b[1m3s\u001b[0m 3ms/step - accuracy: 0.9444 - loss: 0.1873 - val_accuracy: 0.3750 - val_loss: 2101.0381\n"
     ]
    }
   ],
   "source": [
    "model = Sequential([\n",
    "    Dense(64, input_shape=(5,), activation='relu'),\n",
    "    BatchNormalization(),\n",
    "    Dropout(0.3),\n",
    "    \n",
    "    Dense(32, activation='relu'),\n",
    "    BatchNormalization(),\n",
    "    Dropout(0.2),\n",
    "    \n",
    "    Dense(4, activation='softmax')\n",
    "])\n",
    "\n",
    "model.compile(optimizer=Adam(learning_rate=0.001), loss='categorical_crossentropy', metrics=['accuracy'])\n",
    "\n",
    "history = model.fit(X, y_categorical, epochs=100, batch_size=4, verbose=1, validation_split=0.4)\n"
   ]
  },
  {
   "cell_type": "code",
   "execution_count": 12,
   "metadata": {},
   "outputs": [
    {
     "data": {
      "image/png": "[encoded data removed]",
      "text/plain": [
       "<Figure size 1200x500 with 2 Axes>"
      ]
     },
     "metadata": {},
     "output_type": "display_data"
    }
   ],
   "source": [
    "plt.figure(figsize=(12, 5))\n",
    "plt.subplot(1, 2, 1)\n",
    "plt.plot(history.history['accuracy'], 'b', label='Training accuracy')\n",
    "plt.plot(history.history['val_accuracy'], 'r', label='Validation accuracy')\n",
    "plt.title('Training and validation accuracy')\n",
    "plt.xlabel('Epochs')\n",
    "plt.ylabel('Accuracy')\n",
    "plt.legend()\n",
    "\n",
    "plt.subplot(1, 2, 2)\n",
    "plt.plot(history.history['loss'], 'b', label='Training loss')\n",
    "plt.plot(history.history['val_loss'], 'r', label='Validation loss')\n",
    "plt.title('Training and validation loss')\n",
    "plt.xlabel('Epochs')\n",
    "plt.ylabel('Loss')\n",
    "plt.legend()\n",
    "\n",
    "plt.tight_layout()\n",
    "plt.show()"
   ]
  },
  {
   "cell_type": "code",
   "execution_count": 13,
   "metadata": {},
   "outputs": [
    {
     "name": "stderr",
     "output_type": "stream",
     "text": [
      "WARNING:absl:You are saving your model as an HDF5 file via `model.save()` or `keras.saving.save_model(model)`. This file format is considered legacy. We recommend using instead the native Keras format, e.g. `model.save('my_model.keras')` or `keras.saving.save_model(model, 'my_model.keras')`. \n"
     ]
    }
   ],
   "source": [
    "model.save('model_feedforward.h5')"
   ]
  },
  {
   "cell_type": "code",
   "execution_count": 15,
   "metadata": {},
   "outputs": [
    {
     "name": "stdout",
     "output_type": "stream",
     "text": [
      "[  24.   5949.   4714.     28.77   94.  ]\n",
      "kimia\n",
      "\u001b[1m1/1\u001b[0m \u001b[32m━━━━━━━━━━━━━━━━━━━━\u001b[0m\u001b[37m\u001b[0m \u001b[1m0s\u001b[0m 52ms/step\n",
      "Prediksi kelas: normal >> [np.int64(3)]\n"
     ]
    }
   ],
   "source": [
    "id = 4500\n",
    "print(X[id])\n",
    "print(y_labels[id])\n",
    "\n",
    "data_to_predict = numpy.array([[  24. ,  5949.  , 4714.,28.77, 94.]]) \n",
    "y_pred = model.predict(data_to_predict)\n",
    "\n",
    "predicted_class = numpy.argmax(y_pred, axis=1)\n",
    "print(f\"Prediksi kelas: {categories[predicted_class[0]]} >> {[predicted_class[0]]}\")\n"
   ]
  },
  {
   "cell_type": "code",
   "execution_count": null,
   "metadata": {},
   "outputs": [],
   "source": []
  },
  {
   "cell_type": "code",
   "execution_count": null,
   "metadata": {},
   "outputs": [],
   "source": []
  },
  {
   "cell_type": "code",
   "execution_count": null,
   "metadata": {},
   "outputs": [],
   "source": []
  },
  {
   "cell_type": "code",
   "execution_count": 17,
   "metadata": {},
   "outputs": [
    {
     "name": "stdout",
     "output_type": "stream",
     "text": [
      "Loss: 840.5592, Accuracy: 0.7500\n"
     ]
    }
   ],
   "source": [
    "loss, accuracy = model.evaluate(X, y_categorical, verbose=0)\n",
    "print(f\"Loss: {loss:.4f}, Accuracy: {accuracy:.4f}\")"
   ]
  },
  {
   "cell_type": "code",
   "execution_count": 19,
   "metadata": {},
   "outputs": [
    {
     "name": "stdout",
     "output_type": "stream",
     "text": [
      "INFO:tensorflow:Assets written to: C:\\Users\\atmatech\\AppData\\Local\\Temp\\tmp9v6_w04w\\assets\n"
     ]
    },
    {
     "name": "stderr",
     "output_type": "stream",
     "text": [
      "INFO:tensorflow:Assets written to: C:\\Users\\atmatech\\AppData\\Local\\Temp\\tmp9v6_w04w\\assets\n"
     ]
    },
    {
     "name": "stdout",
     "output_type": "stream",
     "text": [
      "Saved artifact at 'C:\\Users\\atmatech\\AppData\\Local\\Temp\\tmp9v6_w04w'. The following endpoints are available:\n",
      "\n",
      "* Endpoint 'serve'\n",
      "  args_0 (POSITIONAL_ONLY): TensorSpec(shape=(None, 5), dtype=tf.float32, name='keras_tensor_8')\n",
      "Output Type:\n",
      "  TensorSpec(shape=(None, 4), dtype=tf.float32, name=None)\n",
      "Captures:\n",
      "  2163619508496: TensorSpec(shape=(), dtype=tf.resource, name=None)\n",
      "  2163619510992: TensorSpec(shape=(), dtype=tf.resource, name=None)\n",
      "  2163619511568: TensorSpec(shape=(), dtype=tf.resource, name=None)\n",
      "  2163619511376: TensorSpec(shape=(), dtype=tf.resource, name=None)\n",
      "  2163619511760: TensorSpec(shape=(), dtype=tf.resource, name=None)\n",
      "  2163619510224: TensorSpec(shape=(), dtype=tf.resource, name=None)\n",
      "  2163620004112: TensorSpec(shape=(), dtype=tf.resource, name=None)\n",
      "  2163620005264: TensorSpec(shape=(), dtype=tf.resource, name=None)\n",
      "  2163620004496: TensorSpec(shape=(), dtype=tf.resource, name=None)\n",
      "  2163620005072: TensorSpec(shape=(), dtype=tf.resource, name=None)\n",
      "  2163620005648: TensorSpec(shape=(), dtype=tf.resource, name=None)\n",
      "  2163620004880: TensorSpec(shape=(), dtype=tf.resource, name=None)\n",
      "  2163620006224: TensorSpec(shape=(), dtype=tf.resource, name=None)\n",
      "  2163620007376: TensorSpec(shape=(), dtype=tf.resource, name=None)\n"
     ]
    }
   ],
   "source": [
    "converter = tensorflow.lite.TFLiteConverter.from_keras_model(model)\n",
    "tflite_model = converter.convert()\n",
    "\n",
    "with open('model_feedforward_2.tflite', 'wb') as f:\n",
    "    f.write(tflite_model)"
   ]
  },
  {
   "cell_type": "code",
   "execution_count": null,
   "metadata": {},
   "outputs": [],
   "source": []
  }
 ],
 "metadata": {
  "kernelspec": {
   "display_name": ".venv",
   "language": "python",
   "name": "python3"
  },
  "language_info": {
   "codemirror_mode": {
    "name": "ipython",
    "version": 3
   },
   "file_extension": ".py",
   "mimetype": "text/x-python",
   "name": "python",
   "nbconvert_exporter": "python",
   "pygments_lexer": "ipython3",
   "version": "3.11.0"
  }
 },
 "nbformat": 4,
 "nbformat_minor": 2
}
